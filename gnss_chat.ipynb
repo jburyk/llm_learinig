{
 "cells": [
  {
   "cell_type": "code",
   "execution_count": 1,
   "metadata": {},
   "outputs": [
    {
     "name": "stdout",
     "output_type": "stream",
     "text": [
      "Note: you may need to restart the kernel to use updated packages.\n"
     ]
    }
   ],
   "source": [
    "%pip install -qU langchain openai tiktoken pinecone-client[grpc] pypdf chromadb"
   ]
  },
  {
   "cell_type": "code",
   "execution_count": null,
   "metadata": {},
   "outputs": [],
   "source": []
  },
  {
   "cell_type": "code",
   "execution_count": 2,
   "metadata": {},
   "outputs": [
    {
     "data": {
      "text/plain": [
       "117"
      ]
     },
     "execution_count": 2,
     "metadata": {},
     "output_type": "execute_result"
    }
   ],
   "source": [
    "from langchain.document_loaders import PyPDFLoader\n",
    "\n",
    "loader = PyPDFLoader(\"data/GNSS-book.pdf\")\n",
    "pages = loader.load_and_split()\n",
    "len(pages)"
   ]
  },
  {
   "cell_type": "code",
   "execution_count": 3,
   "metadata": {},
   "outputs": [
    {
     "data": {
      "text/plain": [
       "411"
      ]
     },
     "execution_count": 3,
     "metadata": {},
     "output_type": "execute_result"
    }
   ],
   "source": [
    "import tiktoken\n",
    "\n",
    "def tiktoken_len(text):\n",
    "    tokens = tokenizer.encode(\n",
    "        text,\n",
    "        disallowed_special=()\n",
    "    )\n",
    "    return len(tokens)\n",
    "\n",
    "tokenizer = tiktoken.get_encoding('cl100k_base')\n",
    "\n",
    "tiktoken_len(pages[41].page_content)"
   ]
  },
  {
   "cell_type": "code",
   "execution_count": 4,
   "metadata": {},
   "outputs": [
    {
     "data": {
      "text/plain": [
       "49890"
      ]
     },
     "execution_count": 4,
     "metadata": {},
     "output_type": "execute_result"
    }
   ],
   "source": [
    "total = 0\n",
    "for page in pages:  \n",
    "    total += tiktoken_len(page.page_content)  \n",
    "total"
   ]
  },
  {
   "cell_type": "code",
   "execution_count": 5,
   "metadata": {},
   "outputs": [
    {
     "name": "stderr",
     "output_type": "stream",
     "text": [
      "Using embedded DuckDB without persistence: data will be transient\n",
      "No embedding_function provided, using default embedding function: SentenceTransformerEmbeddingFunction\n",
      "C:\\Users\\jbury_000\\AppData\\Local\\Packages\\PythonSoftwareFoundation.Python.3.10_qbz5n2kfra8p0\\LocalCache\\local-packages\\Python310\\site-packages\\tqdm\\auto.py:21: TqdmWarning: IProgress not found. Please update jupyter and ipywidgets. See https://ipywidgets.readthedocs.io/en/stable/user_install.html\n",
      "  from .autonotebook import tqdm as notebook_tqdm\n"
     ]
    }
   ],
   "source": [
    "from langchain.text_splitter import RecursiveCharacterTextSplitter\n",
    "from langchain.vectorstores import Chroma\n",
    "\n",
    "text_splitter = RecursiveCharacterTextSplitter(\n",
    "        chunk_size=150,\n",
    "        chunk_overlap=20,\n",
    "        length_function=tiktoken_len,\n",
    "        separators=[\"\\n\\n\", \"\\n\", \" \", \"\"]\n",
    "    )\n",
    "\n",
    "index = Chroma(\"gnss_book\")\n",
    "for page in pages:\n",
    "    chunks = text_splitter.split_text(page.page_content)\n",
    "    index.add_texts(chunks, [page.metadata for _ in chunks])\n",
    "    \n",
    "\n",
    "#chunks = text_splitter.split_text(inputText)"
   ]
  },
  {
   "cell_type": "code",
   "execution_count": 6,
   "metadata": {},
   "outputs": [
    {
     "data": {
      "text/plain": [
       "[Document(page_content='distance and direction between the ship and \\nhelicopter. Using this relative distance and \\ndirection, the unmanned helicopter is able \\nto autonomously approach and land on the \\nship’s flight deck. \\nAn article (From Fledgling to Flight) about the \\nlanding of the unmanned Little Bird helicopter \\non a moving ship is in the 2013 Velocity magazine \\navailable at: resources.hexagonpositioning.\\ncom/from-fledgling-to-flight .\\nDelivering critical medical supplies\\nDelivering essential medical supplies \\nto hospitals and medical clinics in remote \\nareas is often challenging. Long distances \\nand poor infrastructure can delay deliveries \\nof supplies that are desperately needed to', metadata={'source': 'data/GNSS-book.pdf', 'page': 99}),\n",
       " Document(page_content='com/put-to-the-test .\\nLanding an unmanned helicopter \\non a ship \\nThe autonomous landing of an unmanned \\nhelicopter is already challenging as the navigation system needs to deal with \\nmovement of the helicopter caused by wind. \\nThis challenge is greatly increased when \\ntrying to land on a ship at sea. Not only is the \\nhelicopter’s position changing based on its \\nmovement and the effects of the wind, but \\nthe ship is also moving independently based \\non its movement and the effects of both the \\nwind and the sea.\\nWhen landing a helicopter on a ship, the \\nrelative distance between the helicopter \\nlanding gear and the flight deck of the', metadata={'source': 'data/GNSS-book.pdf', 'page': 99}),\n",
       " Document(page_content='its magnificently desolate surface. Their \\n“we-do-it-not-because-it-is-easy-but-\\nbecause-it-is-hard” attitude inspired me. In \\nlater years, I jumped through all the academic \\nand career hoops that might someday help \\nme realise my own dream of spaceflight.\\n Beyond this self-indulgent motivation \\nto explore the great unknown, the \\ndevelopment of space over the past \\ndecades has brought about pragmatic and \\nuntold benefits to society at large. We take \\nfor granted that many everyday services \\nare enabled by space technology — how \\nwe communicate, how we know whether to', metadata={'source': 'data/GNSS-book.pdf', 'page': 3}),\n",
       " Document(page_content='position and velocity.\\n On orbit, I worked with science \\nteams on the ground to conduct a host of \\ninternational investigations — from medical \\nscience to fluid physics to robotics. Whether \\ncrystalising a large protein molecule \\nassociated with a debilitating congenital \\nillness — impossible to do on Earth due to \\ngravity — to testing control algorithms for \\nsatellite systems using free-flying robots, \\nevery experiment provided new insights. \\nKnowing that the data we collected would \\nbe applied to social needs on the ground \\nbrought a feeling of satisfaction and \\ngratitude for the opportunity to serve. And \\nthe view out the spacecraft window wasn’t', metadata={'source': 'data/GNSS-book.pdf', 'page': 3})]"
      ]
     },
     "execution_count": 6,
     "metadata": {},
     "output_type": "execute_result"
    }
   ],
   "source": [
    "query = \"airplane\"\n",
    "index.similarity_search(query)"
   ]
  },
  {
   "cell_type": "code",
   "execution_count": 25,
   "metadata": {},
   "outputs": [],
   "source": [
    "def open_file(filepath):\n",
    "    with open(filepath, 'r', encoding='utf-8') as infile:\n",
    "        return infile.read()\n",
    "\n",
    "OPENAI_API_KEY = open_file('openaiapikey.txt')\n",
    "\n",
    "from langchain.chat_models import ChatOpenAI\n",
    "from langchain.chains import RetrievalQA\n",
    "OPENAI_API_KEY = open_file('openaiapikey.txt')\n",
    "llm = ChatOpenAI(\n",
    "    openai_api_key=OPENAI_API_KEY,\n",
    "    model_name='gpt-3.5-turbo',\n",
    "    temperature=0.0\n",
    ")\n",
    "\n",
    "qa = RetrievalQA.from_chain_type(\n",
    "    llm=llm,\n",
    "    chain_type=\"stuff\",\n",
    "    retriever=index.as_retriever(),\n",
    "    #return_source_documents=True\n",
    ")\n"
   ]
  },
  {
   "cell_type": "code",
   "execution_count": 8,
   "metadata": {},
   "outputs": [
    {
     "data": {
      "text/plain": [
       "'GNSS stands for Global Navigation Satellite System. It is a technology that uses a network of satellites to provide location, navigation, and timing information to users anywhere in the world. It is becoming a ubiquitous technology in many aspects of our lives, and has a wide range of applications in cost efficiency and safety of life. However, there are also potential threats to GNSS that need to be considered.'"
      ]
     },
     "execution_count": 8,
     "metadata": {},
     "output_type": "execute_result"
    }
   ],
   "source": [
    "qa.run('What is the GNSS?')"
   ]
  },
  {
   "cell_type": "code",
   "execution_count": 9,
   "metadata": {},
   "outputs": [
    {
     "data": {
      "text/plain": [
       "'There are several factors that can degrade the quality of positioning, including poor satellite geometry, atmospheric interference, multipath errors, and receiver noise. These factors can cause errors in the positioning data and increase the standard deviation, which reduces the accuracy of the positioning output. To ensure integrity and accuracy, it is important to validate the positioning data and use techniques such as differential GNSS to mitigate errors and improve performance.'"
      ]
     },
     "execution_count": 9,
     "metadata": {},
     "output_type": "execute_result"
    }
   ],
   "source": [
    "qa.run('What can degenerate quality of positioning?')"
   ]
  },
  {
   "cell_type": "code",
   "execution_count": 10,
   "metadata": {},
   "outputs": [
    {
     "data": {
      "text/plain": [
       "\"I'm sorry, there is no context provided about CrossCheck. Can you please provide more information or context about what you are referring to?\""
      ]
     },
     "execution_count": 10,
     "metadata": {},
     "output_type": "execute_result"
    }
   ],
   "source": [
    "qa.run('What is CrossCheck?')"
   ]
  },
  {
   "cell_type": "code",
   "execution_count": 27,
   "metadata": {},
   "outputs": [],
   "source": [
    "\n",
    "res = qa.run('What is augmentation?')"
   ]
  },
  {
   "cell_type": "code",
   "execution_count": 28,
   "metadata": {},
   "outputs": [
    {
     "data": {
      "text/plain": [
       "'Augmentation is the process of improving the accuracy, integrity, and availability of the basic GNSS signals across a large geographical region. This is done through the use of satellite-based systems such as SBAS (Satellite-Based Augmentation System) like WAAS and EGNOS. These systems provide corrections to GNSS signals, which are then broadcast to GNSS receivers throughout the coverage area. User equipment receives the corrections and applies them to range calculations, resulting in improved accuracy.'"
      ]
     },
     "execution_count": 28,
     "metadata": {},
     "output_type": "execute_result"
    }
   ],
   "source": [
    "res"
   ]
  },
  {
   "cell_type": "code",
   "execution_count": null,
   "metadata": {},
   "outputs": [],
   "source": []
  }
 ],
 "metadata": {
  "kernelspec": {
   "display_name": "Python 3",
   "language": "python",
   "name": "python3"
  },
  "language_info": {
   "codemirror_mode": {
    "name": "ipython",
    "version": 3
   },
   "file_extension": ".py",
   "mimetype": "text/x-python",
   "name": "python",
   "nbconvert_exporter": "python",
   "pygments_lexer": "ipython3",
   "version": "3.10.11"
  },
  "orig_nbformat": 4
 },
 "nbformat": 4,
 "nbformat_minor": 2
}
