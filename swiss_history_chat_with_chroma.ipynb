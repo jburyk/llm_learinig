{
 "cells": [
  {
   "cell_type": "code",
   "execution_count": 2,
   "metadata": {},
   "outputs": [],
   "source": [
    "def open_file(filepath):\n",
    "    with open(filepath, 'r', encoding='utf-8') as infile:\n",
    "        return infile.read()\n",
    "\n",
    "inputText = open_file('data\\Switzerland.txt')\n",
    "inputText = inputText.replace('\\n', ' ').replace('\\r', '')"
   ]
  },
  {
   "cell_type": "code",
   "execution_count": 3,
   "metadata": {},
   "outputs": [
    {
     "data": {
      "text/plain": [
       "16674"
      ]
     },
     "execution_count": 3,
     "metadata": {},
     "output_type": "execute_result"
    }
   ],
   "source": [
    "import tiktoken\n",
    "\n",
    "def tiktoken_len(text):\n",
    "    tokens = tokenizer.encode(\n",
    "        text,\n",
    "        disallowed_special=()\n",
    "    )\n",
    "    return len(tokens)\n",
    "\n",
    "tokenizer = tiktoken.get_encoding('cl100k_base')\n",
    "tiktoken_len(inputText)"
   ]
  },
  {
   "cell_type": "code",
   "execution_count": 4,
   "metadata": {},
   "outputs": [],
   "source": [
    "from langchain.text_splitter import RecursiveCharacterTextSplitter\n",
    "text_splitter = RecursiveCharacterTextSplitter(\n",
    "        chunk_size=150,\n",
    "        chunk_overlap=20,\n",
    "        length_function=tiktoken_len,\n",
    "        separators=[\"\\n\\n\", \"\\n\", \" \", \"\"]\n",
    "    )\n",
    "\n",
    "chunks = text_splitter.split_text(inputText)"
   ]
  },
  {
   "cell_type": "code",
   "execution_count": 5,
   "metadata": {},
   "outputs": [
    {
     "name": "stderr",
     "output_type": "stream",
     "text": [
      "Using embedded DuckDB without persistence: data will be transient\n",
      "No embedding_function provided, using default embedding function: SentenceTransformerEmbeddingFunction\n",
      "C:\\Users\\jbury_000\\AppData\\Local\\Packages\\PythonSoftwareFoundation.Python.3.10_qbz5n2kfra8p0\\LocalCache\\local-packages\\Python310\\site-packages\\tqdm\\auto.py:21: TqdmWarning: IProgress not found. Please update jupyter and ipywidgets. See https://ipywidgets.readthedocs.io/en/stable/user_install.html\n",
      "  from .autonotebook import tqdm as notebook_tqdm\n"
     ]
    }
   ],
   "source": [
    "from langchain.vectorstores import Chroma\n",
    "docsearch = Chroma.from_texts(chunks)"
   ]
  },
  {
   "cell_type": "code",
   "execution_count": 6,
   "metadata": {},
   "outputs": [
    {
     "data": {
      "text/plain": [
       "[Document(page_content='Swiss Reformation. Against what he viewed as the decadent Roman Catholic hierarchy, Zwingli favoured the return to the teachings of the Bible. While Luther strictly separated the spiritual and political realms, Zwingli emphasized that both the church and the state were subject to the law of Christ. In 1525 Zürich’s great council adopted his innovations: the Latin', metadata={}),\n",
       " Document(page_content='Renaissance scholar Desiderius Erasmus, whose Christian philosophy became the heart of humanism in Switzerland. One of Erasmus’s most eager pupils was Huldrych Zwingli, an influential theologian and a dynamic political leader whose new Protestant religious doctrines, paralleling to some extent those ofMartin Luther, fueled the Swiss Reformation. Against what he viewed as the', metadata={}),\n",
       " Document(page_content='foreigners regarded it as an entity. \\x0cThe ancien régime  The Reformation        Huldrych Zwingli  Switzerland’s then biggest town, Basel, became a cultural centre as a result of theCouncil of Basel (1431–49), the foundation of its university (1460), and its printing industry, which attracted famed Renaissance scholar Desiderius Erasmus, whose Christian', metadata={}),\n",
       " Document(page_content='neutrality, isolationism, solidarity, anticommunism, and militarism became the common, often complacent ideology of most Swiss, be they bourgeois or socialist.         Desmond Tutu at the World Economic Forum         Pervez Musharraf at the World Economic Forum     In 1959 the so-called Zauberformel (“magic formula”) for the Federal', metadata={})]"
      ]
     },
     "execution_count": 6,
     "metadata": {},
     "output_type": "execute_result"
    }
   ],
   "source": [
    "query = \"Who was Zwingli\"\n",
    "docsearch.similarity_search(query)"
   ]
  },
  {
   "cell_type": "code",
   "execution_count": 7,
   "metadata": {},
   "outputs": [],
   "source": [
    "from langchain.chat_models import ChatOpenAI\n",
    "from langchain.chains import RetrievalQA\n",
    "OPENAI_API_KEY = open_file('openaiapikey.txt')\n",
    "llm = ChatOpenAI(\n",
    "    openai_api_key=OPENAI_API_KEY,\n",
    "    model_name='gpt-3.5-turbo',\n",
    "    temperature=0.0\n",
    ")\n",
    "\n",
    "qa = RetrievalQA.from_chain_type(\n",
    "    llm=llm,\n",
    "    chain_type=\"stuff\",\n",
    "    retriever=docsearch.as_retriever()\n",
    ")"
   ]
  },
  {
   "cell_type": "code",
   "execution_count": 8,
   "metadata": {},
   "outputs": [
    {
     "data": {
      "text/plain": [
       "'Huldrych Zwingli was an influential theologian and a dynamic political leader whose new Protestant religious doctrines, paralleling to some extent those of Martin Luther, fueled the Swiss Reformation. Against what he viewed as the decadent Roman Catholic hierarchy, Zwingli favored the return to the teachings of the Bible.'"
      ]
     },
     "execution_count": 8,
     "metadata": {},
     "output_type": "execute_result"
    }
   ],
   "source": [
    "qa.run('Who was Zwingli?')"
   ]
  },
  {
   "cell_type": "code",
   "execution_count": 9,
   "metadata": {},
   "outputs": [
    {
     "data": {
      "text/plain": [
       "\"Huldrych was Zwingli's first name.\""
      ]
     },
     "execution_count": 9,
     "metadata": {},
     "output_type": "execute_result"
    }
   ],
   "source": [
    "qa.run('What was Zwingli first name?')"
   ]
  },
  {
   "cell_type": "code",
   "execution_count": null,
   "metadata": {},
   "outputs": [],
   "source": []
  }
 ],
 "metadata": {
  "kernelspec": {
   "display_name": "Python 3",
   "language": "python",
   "name": "python3"
  },
  "language_info": {
   "codemirror_mode": {
    "name": "ipython",
    "version": 3
   },
   "file_extension": ".py",
   "mimetype": "text/x-python",
   "name": "python",
   "nbconvert_exporter": "python",
   "pygments_lexer": "ipython3",
   "version": "3.10.11"
  },
  "orig_nbformat": 4
 },
 "nbformat": 4,
 "nbformat_minor": 2
}
